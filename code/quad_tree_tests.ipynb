{
 "cells": [
  {
   "cell_type": "code",
   "execution_count": 4,
   "id": "initial_id",
   "metadata": {
    "collapsed": true
   },
   "outputs": [],
   "source": [
    "import tests.generate_tests as test\n",
    "from copy import deepcopy\n",
    "import math\n",
    "from Point import Point\n",
    "from Rectangle import Rectangle\n",
    "from visualizer_bit.main import Visualizer\n",
    "import matplotlib.pyplot as plt\n",
    "import numpy as np\n",
    "vis = Visualizer()\n"
   ]
  },
  {
   "cell_type": "code",
   "execution_count": 5,
   "id": "b0a784ef",
   "metadata": {},
   "outputs": [],
   "source": [
    "cos = [(1,2), (3,4), (5,6), (7,8)]"
   ]
  },
  {
   "cell_type": "code",
   "execution_count": 7,
   "id": "a8c5f867",
   "metadata": {},
   "outputs": [
    {
     "name": "stdout",
     "output_type": "stream",
     "text": [
      "[((1, 2)), ((3, 4)), ((5, 6)), ((7, 8))]\n",
      "1\n",
      "[((1, 2)), ((3, 4)), ((5, 6))] (ro jest prostokąt([1, 2])),([7, 8]) True\n",
      "[((7, 8))]\n",
      "[((5, 6)), ((7, 8))]\n"
     ]
    }
   ],
   "source": [
    "from quad_tree import *\n",
    "# a = Point((1, 2))\n",
    "# b = Point((0, 3))\n",
    "# lower = a.lower_left(b)\n",
    "# upper = a.upper_right(b)\n",
    "# print(Rectangle(lower, upper))\n",
    "# Q_tree = QuadTree(Rectangle(lower, upper))\n",
    "# print(Q_tree.divided)\n",
    "# print(Q_tree.rectangle)\n",
    "# print(Q_tree.points)\n",
    "# Q_tree.insert(Point((1,2)))\n",
    "# print(Q_tree.points)\n",
    "Q_tree = build_quadtree(cos)\n",
    "print(Q_tree.points, Q_tree.rectangle, Q_tree.divided)\n",
    "print(Q_tree.ne.points)\n",
    "Q_tree.insert(Point((1,3)))\n",
    "print(Q_tree.search(Rectangle(Point((4,2)), Point((7,8))), []))\n"
   ]
  }
 ],
 "metadata": {
  "kernelspec": {
   "display_name": "bit-alg",
   "language": "python",
   "name": "python3"
  },
  "language_info": {
   "codemirror_mode": {
    "name": "ipython",
    "version": 3
   },
   "file_extension": ".py",
   "mimetype": "text/x-python",
   "name": "python",
   "nbconvert_exporter": "python",
   "pygments_lexer": "ipython3",
   "version": "3.9.20"
  }
 },
 "nbformat": 4,
 "nbformat_minor": 5
}
