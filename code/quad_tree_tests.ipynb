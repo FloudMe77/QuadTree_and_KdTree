{
 "cells": [
  {
   "cell_type": "code",
   "execution_count": 15,
   "id": "initial_id",
   "metadata": {
    "collapsed": true
   },
   "outputs": [],
   "source": [
    "import tests.generate_tests as test\n",
    "from copy import deepcopy\n",
    "import math\n",
    "from Point import Point\n",
    "from Rectangle import Rectangle\n",
    "from visualizer_bit.main import Visualizer\n",
    "import matplotlib.pyplot as plt\n",
    "import numpy as np\n",
    "vis = Visualizer()\n",
    "from quad_tree import *"
   ]
  },
  {
   "cell_type": "code",
   "execution_count": 16,
   "id": "a8c5f867",
   "metadata": {},
   "outputs": [
    {
     "ename": "AttributeError",
     "evalue": "'list' object has no attribute 'precedens'",
     "output_type": "error",
     "traceback": [
      "\u001B[0;31m---------------------------------------------------------------------------\u001B[0m",
      "\u001B[0;31mAttributeError\u001B[0m                            Traceback (most recent call last)",
      "Cell \u001B[0;32mIn[16], line 1\u001B[0m\n\u001B[0;32m----> 1\u001B[0m \u001B[43mbuild_quadtree\u001B[49m\u001B[43m(\u001B[49m\u001B[43mcos\u001B[49m\u001B[43m)\u001B[49m\n",
      "File \u001B[0;32m~/QuadTree_and_KdTree/code/quad_tree.py:72\u001B[0m, in \u001B[0;36mbuild_quadtree\u001B[0;34m(points_tuples, max_points)\u001B[0m\n\u001B[1;32m     71\u001B[0m \u001B[38;5;28;01mdef\u001B[39;00m \u001B[38;5;21mbuild_quadtree\u001B[39m(points_tuples, max_points \u001B[38;5;241m=\u001B[39m \u001B[38;5;241m3\u001B[39m):\n\u001B[0;32m---> 72\u001B[0m     points, bounds \u001B[38;5;241m=\u001B[39m \u001B[43mfind_rectangle_conv_to_point\u001B[49m\u001B[43m(\u001B[49m\u001B[43mpoints_tuples\u001B[49m\u001B[43m)\u001B[49m\n\u001B[1;32m     73\u001B[0m     quadtree \u001B[38;5;241m=\u001B[39m QuadTree(bounds, max_points\u001B[38;5;241m=\u001B[39mmax_points)\n\u001B[1;32m     74\u001B[0m     \u001B[38;5;28;01mfor\u001B[39;00m point \u001B[38;5;129;01min\u001B[39;00m points:\n",
      "File \u001B[0;32m~/QuadTree_and_KdTree/code/quad_tree.py:88\u001B[0m, in \u001B[0;36mfind_rectangle_conv_to_point\u001B[0;34m(points)\u001B[0m\n\u001B[1;32m     85\u001B[0m     upper_right \u001B[38;5;241m=\u001B[39m [\u001B[38;5;28mmax\u001B[39m(upper_right[i], point[i]) \u001B[38;5;241m+\u001B[39m \u001B[38;5;241m1\u001B[39m \u001B[38;5;28;01mfor\u001B[39;00m i \u001B[38;5;129;01min\u001B[39;00m \u001B[38;5;28mrange\u001B[39m(\u001B[38;5;241m2\u001B[39m)]\n\u001B[1;32m     86\u001B[0m     res\u001B[38;5;241m.\u001B[39mappend(Point(point))\n\u001B[0;32m---> 88\u001B[0m \u001B[38;5;28;01mreturn\u001B[39;00m res, \u001B[43mRectangle\u001B[49m\u001B[43m(\u001B[49m\u001B[43mlower_left\u001B[49m\u001B[43m,\u001B[49m\u001B[43m \u001B[49m\u001B[43mupper_right\u001B[49m\u001B[43m)\u001B[49m\n",
      "File \u001B[0;32m~/QuadTree_and_KdTree/code/Rectangle.py:7\u001B[0m, in \u001B[0;36mRectangle.__init__\u001B[0;34m(self, lower_left, upper_right)\u001B[0m\n\u001B[1;32m      6\u001B[0m \u001B[38;5;28;01mdef\u001B[39;00m \u001B[38;5;21m__init__\u001B[39m(\u001B[38;5;28mself\u001B[39m,lower_left,upper_right):\n\u001B[0;32m----> 7\u001B[0m     \u001B[38;5;28;01mif\u001B[39;00m \u001B[38;5;129;01mnot\u001B[39;00m \u001B[43mlower_left\u001B[49m\u001B[38;5;241;43m.\u001B[39;49m\u001B[43mprecedens\u001B[49m(upper_right):\n\u001B[1;32m      8\u001B[0m         \u001B[38;5;28;01mraise\u001B[39;00m \u001B[38;5;167;01mValueError\u001B[39;00m(\u001B[38;5;124mf\u001B[39m\u001B[38;5;124m\"\u001B[39m\u001B[38;5;124mPrubujesz stworzyć prostokąt o błednych punktach skrajnych \u001B[39m\u001B[38;5;132;01m{\u001B[39;00mlower_left\u001B[38;5;132;01m}\u001B[39;00m\u001B[38;5;124m,\u001B[39m\u001B[38;5;132;01m{\u001B[39;00mupper_right\u001B[38;5;132;01m}\u001B[39;00m\u001B[38;5;124m\"\u001B[39m)\n\u001B[1;32m      9\u001B[0m     \u001B[38;5;28mself\u001B[39m\u001B[38;5;241m.\u001B[39mlower_left \u001B[38;5;241m=\u001B[39m lower_left\n",
      "\u001B[0;31mAttributeError\u001B[0m: 'list' object has no attribute 'precedens'"
     ]
    }
   ],
   "source": [
    "build_quadtree(cos)"
   ]
  }
 ],
 "metadata": {
  "kernelspec": {
   "display_name": "bit-alg",
   "language": "python",
   "name": "python3"
  },
  "language_info": {
   "codemirror_mode": {
    "name": "ipython",
    "version": 3
   },
   "file_extension": ".py",
   "mimetype": "text/x-python",
   "name": "python",
   "nbconvert_exporter": "python",
   "pygments_lexer": "ipython3",
   "version": "3.9.20"
  }
 },
 "nbformat": 4,
 "nbformat_minor": 5
}
